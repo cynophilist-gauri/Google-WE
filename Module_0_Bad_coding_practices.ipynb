{
  "nbformat": 4,
  "nbformat_minor": 0,
  "metadata": {
    "colab": {
      "private_outputs": true,
      "provenance": [],
      "authorship_tag": "ABX9TyO1OoY/BxVOkhEyV8UsEgUv",
      "include_colab_link": true
    },
    "kernelspec": {
      "name": "python3",
      "display_name": "Python 3"
    },
    "language_info": {
      "name": "python"
    }
  },
  "cells": [
    {
      "cell_type": "markdown",
      "metadata": {
        "id": "view-in-github",
        "colab_type": "text"
      },
      "source": [
        "<a href=\"https://colab.research.google.com/github/cynophilist-gauri/Google-WE/blob/main/Module_0_Bad_coding_practices.ipynb\" target=\"_parent\"><img src=\"https://colab.research.google.com/assets/colab-badge.svg\" alt=\"Open In Colab\"/></a>"
      ]
    },
    {
      "cell_type": "markdown",
      "source": [
        "#Bad coding practices"
      ],
      "metadata": {
        "id": "cTCM5s1vJGhl"
      }
    },
    {
      "cell_type": "code",
      "source": [
        "#checking against True (or False)\n",
        "def is_even(n: int) -> bool:\n",
        "    return n % 2 == 0"
      ],
      "metadata": {
        "id": "yizwMh_uJN2m"
      },
      "execution_count": null,
      "outputs": []
    },
    {
      "cell_type": "code",
      "source": [
        "k = 71\n",
        "m = 76"
      ],
      "metadata": {
        "id": "q2mtZ_10OAd0"
      },
      "execution_count": null,
      "outputs": []
    },
    {
      "cell_type": "code",
      "source": [
        "if is_even(k) == True:\n",
        "    pass\n",
        "    #do something\n",
        "else:\n",
        "    pass\n",
        "    #do something else"
      ],
      "metadata": {
        "id": "JasL_Qx9Km-6"
      },
      "execution_count": null,
      "outputs": []
    },
    {
      "cell_type": "code",
      "source": [
        "#just write\n",
        "if is_even(k):\n",
        "    pass\n",
        "    #do something\n",
        "else:\n",
        "    pass\n",
        "    #do something else"
      ],
      "metadata": {
        "id": "Gm47sjUFNF0Z"
      },
      "execution_count": null,
      "outputs": []
    },
    {
      "cell_type": "code",
      "source": [
        "#Worse practices\n",
        "def both(k: int, m: int) -> bool:\n",
        "if is_even(k) == is_even(m):\n",
        "    return True\n",
        "else:\n",
        "    return False"
      ],
      "metadata": {
        "id": "3GnFpcBKO9ZG"
      },
      "execution_count": null,
      "outputs": []
    },
    {
      "cell_type": "code",
      "source": [
        "#Just write\n",
        "def both(k: int, m: int) -> bool:\n",
        "    return is_even(k) == is_even(m)"
      ],
      "metadata": {
        "id": "msqust5iQBHn"
      },
      "execution_count": null,
      "outputs": []
    },
    {
      "cell_type": "code",
      "source": [
        "#In short\n",
        "def is_even(n: int) -> bool:\n",
        "    return n % 2 == 0\n",
        "def is_even(k: int, m: int) -> bool:\n",
        "    return is_even(k) == is_even(m)"
      ],
      "metadata": {
        "id": "cAiZ4pDURz1y"
      },
      "execution_count": null,
      "outputs": []
    },
    {
      "cell_type": "code",
      "source": [],
      "metadata": {
        "id": "hLtBccugS2_h"
      },
      "execution_count": null,
      "outputs": []
    }
  ]
}